version https://git-lfs.github.com/spec/v1
oid sha256:8b68ec5613e3b189ec1628c25a41d53a8dba71fa9205d68a7d3c46f3fcfa65e0
size 35012
