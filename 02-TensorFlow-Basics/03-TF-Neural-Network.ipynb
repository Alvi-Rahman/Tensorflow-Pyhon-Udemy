version https://git-lfs.github.com/spec/v1
oid sha256:9aa3c38c3acea41442129681baca4be06f7bdb9d402a0ff45688480e9dfd3111
size 30347
