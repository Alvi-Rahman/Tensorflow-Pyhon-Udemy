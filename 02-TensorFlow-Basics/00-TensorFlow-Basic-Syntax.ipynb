version https://git-lfs.github.com/spec/v1
oid sha256:9fca01a947046e5aab21f180c3bdcc94e239c06c4ff0763d60cd00b4e453f07e
size 9492
