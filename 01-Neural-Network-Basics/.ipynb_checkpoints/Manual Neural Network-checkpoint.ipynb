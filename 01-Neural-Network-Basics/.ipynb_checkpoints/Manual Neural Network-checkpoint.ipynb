version https://git-lfs.github.com/spec/v1
oid sha256:a9794c3c281cf424c504ee814184f94496ff331fb42c548f184e5d0fce1918c3
size 73695
