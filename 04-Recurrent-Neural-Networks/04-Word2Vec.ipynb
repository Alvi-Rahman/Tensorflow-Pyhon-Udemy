version https://git-lfs.github.com/spec/v1
oid sha256:6e27701ae9af08f7e6af2bfcd3ba0bde6254bb542e4cb97d86fc8c72774241ea
size 1444989
