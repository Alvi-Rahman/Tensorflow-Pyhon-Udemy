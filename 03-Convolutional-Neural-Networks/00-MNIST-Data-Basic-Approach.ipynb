version https://git-lfs.github.com/spec/v1
oid sha256:b7d7f93202e388f07e511c7f5e79d370ddcab7f5a69fc2998b130f461142c8d6
size 28447
