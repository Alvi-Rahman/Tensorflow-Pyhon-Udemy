version https://git-lfs.github.com/spec/v1
oid sha256:9e4bb25f46d145a6a61e67ff1827e7fbb232b76f34e74a4775a6cbfa0e6fc2c6
size 80405
