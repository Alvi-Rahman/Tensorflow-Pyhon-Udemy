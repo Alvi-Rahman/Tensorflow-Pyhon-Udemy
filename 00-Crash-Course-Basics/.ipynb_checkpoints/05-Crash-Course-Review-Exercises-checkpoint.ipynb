version https://git-lfs.github.com/spec/v1
oid sha256:ecf80debded352d17e5478b94f8bd4c47b9558ee8e5fb41b5cd2958c737d4916
size 58045
